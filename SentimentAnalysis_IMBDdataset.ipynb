{
 "cells": [
  {
   "cell_type": "markdown",
   "id": "457e2d1d-2741-41ff-9fdd-618880e96557",
   "metadata": {},
   "source": [
    "<h1><center>Sentiment Analysis on IMDB Dataset</center></h1>"
   ]
  },
  {
   "cell_type": "code",
   "execution_count": 2,
   "id": "9dcd31e3-b6d8-409c-bb92-9ac051dd2352",
   "metadata": {},
   "outputs": [],
   "source": [
    "#Installing Required Packages"
   ]
  },
  {
   "cell_type": "code",
   "execution_count": 2,
   "id": "baaff568-2c9b-4fdb-a9df-e55557e121ce",
   "metadata": {
    "scrolled": true
   },
   "outputs": [
    {
     "name": "stdout",
     "output_type": "stream",
     "text": [
      "Collecting pandas\n",
      "  Downloading pandas-2.2.2-cp310-cp310-win_amd64.whl.metadata (19 kB)\n",
      "Requirement already satisfied: numpy>=1.22.4 in c:\\users\\pc-20\\appdata\\local\\programs\\python\\python310\\lib\\site-packages (from pandas) (1.26.4)\n",
      "Requirement already satisfied: python-dateutil>=2.8.2 in c:\\users\\pc-20\\appdata\\local\\programs\\python\\python310\\lib\\site-packages (from pandas) (2.9.0.post0)\n",
      "Collecting pytz>=2020.1 (from pandas)\n",
      "  Downloading pytz-2024.1-py2.py3-none-any.whl.metadata (22 kB)\n",
      "Collecting tzdata>=2022.7 (from pandas)\n",
      "  Downloading tzdata-2024.1-py2.py3-none-any.whl.metadata (1.4 kB)\n",
      "Requirement already satisfied: six>=1.5 in c:\\users\\pc-20\\appdata\\local\\programs\\python\\python310\\lib\\site-packages (from python-dateutil>=2.8.2->pandas) (1.16.0)\n",
      "Downloading pandas-2.2.2-cp310-cp310-win_amd64.whl (11.6 MB)\n",
      "   ---------------------------------------- 0.0/11.6 MB ? eta -:--:--\n",
      "   - -------------------------------------- 0.3/11.6 MB 6.8 MB/s eta 0:00:02\n",
      "   -- ------------------------------------- 0.8/11.6 MB 10.1 MB/s eta 0:00:02\n",
      "   ---- ----------------------------------- 1.3/11.6 MB 10.6 MB/s eta 0:00:01\n",
      "   ------ --------------------------------- 1.9/11.6 MB 9.1 MB/s eta 0:00:02\n",
      "   ------- -------------------------------- 2.2/11.6 MB 9.5 MB/s eta 0:00:01\n",
      "   -------- ------------------------------- 2.4/11.6 MB 9.1 MB/s eta 0:00:02\n",
      "   -------- ------------------------------- 2.6/11.6 MB 8.6 MB/s eta 0:00:02\n",
      "   --------- ------------------------------ 2.8/11.6 MB 7.6 MB/s eta 0:00:02\n",
      "   ---------- ----------------------------- 2.9/11.6 MB 7.8 MB/s eta 0:00:02\n",
      "   ----------- ---------------------------- 3.3/11.6 MB 7.6 MB/s eta 0:00:02\n",
      "   ------------ --------------------------- 3.7/11.6 MB 7.9 MB/s eta 0:00:02\n",
      "   -------------- ------------------------- 4.1/11.6 MB 7.9 MB/s eta 0:00:01\n",
      "   --------------- ------------------------ 4.5/11.6 MB 7.9 MB/s eta 0:00:01\n",
      "   ---------------- ----------------------- 4.8/11.6 MB 7.8 MB/s eta 0:00:01\n",
      "   ----------------- ---------------------- 5.2/11.6 MB 7.7 MB/s eta 0:00:01\n",
      "   ------------------ --------------------- 5.5/11.6 MB 7.7 MB/s eta 0:00:01\n",
      "   -------------------- ------------------- 5.9/11.6 MB 7.7 MB/s eta 0:00:01\n",
      "   --------------------- ------------------ 6.2/11.6 MB 7.7 MB/s eta 0:00:01\n",
      "   ---------------------- ----------------- 6.5/11.6 MB 7.5 MB/s eta 0:00:01\n",
      "   ----------------------- ---------------- 6.8/11.6 MB 7.6 MB/s eta 0:00:01\n",
      "   ------------------------ --------------- 7.0/11.6 MB 7.5 MB/s eta 0:00:01\n",
      "   ------------------------ --------------- 7.3/11.6 MB 7.4 MB/s eta 0:00:01\n",
      "   -------------------------- ------------- 7.6/11.6 MB 7.4 MB/s eta 0:00:01\n",
      "   --------------------------- ------------ 7.9/11.6 MB 7.2 MB/s eta 0:00:01\n",
      "   ---------------------------- ----------- 8.2/11.6 MB 7.2 MB/s eta 0:00:01\n",
      "   ----------------------------- ---------- 8.6/11.6 MB 7.3 MB/s eta 0:00:01\n",
      "   ------------------------------ --------- 9.0/11.6 MB 7.3 MB/s eta 0:00:01\n",
      "   -------------------------------- ------- 9.3/11.6 MB 7.3 MB/s eta 0:00:01\n",
      "   --------------------------------- ------ 9.6/11.6 MB 7.3 MB/s eta 0:00:01\n",
      "   ---------------------------------- ----- 10.0/11.6 MB 7.3 MB/s eta 0:00:01\n",
      "   ----------------------------------- ---- 10.3/11.6 MB 7.4 MB/s eta 0:00:01\n",
      "   ------------------------------------ --- 10.6/11.6 MB 7.2 MB/s eta 0:00:01\n",
      "   -------------------------------------- - 11.1/11.6 MB 7.0 MB/s eta 0:00:01\n",
      "   ---------------------------------------  11.4/11.6 MB 7.0 MB/s eta 0:00:01\n",
      "   ---------------------------------------  11.6/11.6 MB 7.0 MB/s eta 0:00:01\n",
      "   ---------------------------------------  11.6/11.6 MB 7.0 MB/s eta 0:00:01\n",
      "   ---------------------------------------  11.6/11.6 MB 7.0 MB/s eta 0:00:01\n",
      "   ---------------------------------------  11.6/11.6 MB 7.0 MB/s eta 0:00:01\n",
      "   ---------------------------------------  11.6/11.6 MB 7.0 MB/s eta 0:00:01\n",
      "   ---------------------------------------  11.6/11.6 MB 7.0 MB/s eta 0:00:01\n",
      "   ---------------------------------------  11.6/11.6 MB 7.0 MB/s eta 0:00:01\n",
      "   ---------------------------------------- 11.6/11.6 MB 5.8 MB/s eta 0:00:00\n",
      "Downloading pytz-2024.1-py2.py3-none-any.whl (505 kB)\n",
      "   ---------------------------------------- 0.0/505.5 kB ? eta -:--:--\n",
      "   ---------------------------------- ----- 430.1/505.5 kB 8.9 MB/s eta 0:00:01\n",
      "   ---------------------------------------  501.8/505.5 kB 7.8 MB/s eta 0:00:01\n",
      "   ---------------------------------------- 505.5/505.5 kB 3.5 MB/s eta 0:00:00\n",
      "Downloading tzdata-2024.1-py2.py3-none-any.whl (345 kB)\n",
      "   ---------------------------------------- 0.0/345.4 kB ? eta -:--:--\n",
      "   --------------------------------------  337.9/345.4 kB 10.6 MB/s eta 0:00:01\n",
      "   --------------------------------------  337.9/345.4 kB 10.6 MB/s eta 0:00:01\n",
      "   ---------------------------------------- 345.4/345.4 kB 3.6 MB/s eta 0:00:00\n",
      "Installing collected packages: pytz, tzdata, pandas\n",
      "Successfully installed pandas-2.2.2 pytz-2024.1 tzdata-2024.1\n"
     ]
    },
    {
     "name": "stderr",
     "output_type": "stream",
     "text": [
      "\n",
      "[notice] A new release of pip is available: 24.1.2 -> 24.2\n",
      "[notice] To update, run: python.exe -m pip install --upgrade pip\n"
     ]
    }
   ],
   "source": [
    "!pip install pandas"
   ]
  },
  {
   "cell_type": "code",
   "execution_count": 4,
   "id": "afde7c47-4d10-4b48-bf0c-23e42acabb13",
   "metadata": {
    "scrolled": true
   },
   "outputs": [
    {
     "name": "stdout",
     "output_type": "stream",
     "text": [
      "Collecting scikit-learn\n",
      "  Downloading scikit_learn-1.5.1-cp310-cp310-win_amd64.whl.metadata (12 kB)\n",
      "Requirement already satisfied: numpy>=1.19.5 in c:\\users\\pc-20\\appdata\\local\\programs\\python\\python310\\lib\\site-packages (from scikit-learn) (1.26.4)\n",
      "Collecting scipy>=1.6.0 (from scikit-learn)\n",
      "  Downloading scipy-1.14.0-cp310-cp310-win_amd64.whl.metadata (60 kB)\n",
      "     ---------------------------------------- 0.0/60.8 kB ? eta -:--:--\n",
      "     --------------------------------- ------ 51.2/60.8 kB 2.7 MB/s eta 0:00:01\n",
      "     --------------------------------- ------ 51.2/60.8 kB 2.7 MB/s eta 0:00:01\n",
      "     -------------------------------------- 60.8/60.8 kB 463.5 kB/s eta 0:00:00\n",
      "Collecting joblib>=1.2.0 (from scikit-learn)\n",
      "  Downloading joblib-1.4.2-py3-none-any.whl.metadata (5.4 kB)\n",
      "Collecting threadpoolctl>=3.1.0 (from scikit-learn)\n",
      "  Downloading threadpoolctl-3.5.0-py3-none-any.whl.metadata (13 kB)\n",
      "Downloading scikit_learn-1.5.1-cp310-cp310-win_amd64.whl (11.0 MB)\n",
      "   ---------------------------------------- 0.0/11.0 MB ? eta -:--:--\n",
      "   - -------------------------------------- 0.3/11.0 MB 8.9 MB/s eta 0:00:02\n",
      "   --- ------------------------------------ 0.9/11.0 MB 11.0 MB/s eta 0:00:01\n",
      "   ----- ---------------------------------- 1.4/11.0 MB 10.2 MB/s eta 0:00:01\n",
      "   ------- -------------------------------- 2.0/11.0 MB 10.7 MB/s eta 0:00:01\n",
      "   --------- ------------------------------ 2.5/11.0 MB 10.9 MB/s eta 0:00:01\n",
      "   ----------- ---------------------------- 3.1/11.0 MB 11.0 MB/s eta 0:00:01\n",
      "   ------------- -------------------------- 3.6/11.0 MB 11.1 MB/s eta 0:00:01\n",
      "   --------------- ------------------------ 4.2/11.0 MB 11.1 MB/s eta 0:00:01\n",
      "   ----------------- ---------------------- 4.7/11.0 MB 11.2 MB/s eta 0:00:01\n",
      "   ------------------- -------------------- 5.4/11.0 MB 11.4 MB/s eta 0:00:01\n",
      "   --------------------- ------------------ 5.9/11.0 MB 11.4 MB/s eta 0:00:01\n",
      "   ----------------------- ---------------- 6.5/11.0 MB 11.2 MB/s eta 0:00:01\n",
      "   ------------------------- -------------- 7.1/11.0 MB 11.3 MB/s eta 0:00:01\n",
      "   --------------------------- ------------ 7.6/11.0 MB 11.3 MB/s eta 0:00:01\n",
      "   ----------------------------- ---------- 8.2/11.0 MB 11.4 MB/s eta 0:00:01\n",
      "   ------------------------------- -------- 8.6/11.0 MB 11.3 MB/s eta 0:00:01\n",
      "   --------------------------------- ------ 9.2/11.0 MB 11.5 MB/s eta 0:00:01\n",
      "   ----------------------------------- ---- 9.8/11.0 MB 11.2 MB/s eta 0:00:01\n",
      "   ------------------------------------- -- 10.3/11.0 MB 11.5 MB/s eta 0:00:01\n",
      "   ---------------------------------------  10.8/11.0 MB 11.5 MB/s eta 0:00:01\n",
      "   ---------------------------------------  11.0/11.0 MB 11.5 MB/s eta 0:00:01\n",
      "   ---------------------------------------  11.0/11.0 MB 11.5 MB/s eta 0:00:01\n",
      "   ---------------------------------------  11.0/11.0 MB 11.5 MB/s eta 0:00:01\n",
      "   ---------------------------------------  11.0/11.0 MB 11.5 MB/s eta 0:00:01\n",
      "   ---------------------------------------- 11.0/11.0 MB 9.5 MB/s eta 0:00:00\n",
      "Downloading joblib-1.4.2-py3-none-any.whl (301 kB)\n",
      "   ---------------------------------------- 0.0/301.8 kB ? eta -:--:--\n",
      "   --------------------------------------  297.0/301.8 kB 17.9 MB/s eta 0:00:01\n",
      "   --------------------------------------  297.0/301.8 kB 17.9 MB/s eta 0:00:01\n",
      "   ---------------------------------------- 301.8/301.8 kB 2.7 MB/s eta 0:00:00\n",
      "Downloading scipy-1.14.0-cp310-cp310-win_amd64.whl (44.8 MB)\n",
      "   ---------------------------------------- 0.0/44.8 MB ? eta -:--:--\n",
      "    --------------------------------------- 0.6/44.8 MB 17.8 MB/s eta 0:00:03\n",
      "   - -------------------------------------- 1.1/44.8 MB 14.3 MB/s eta 0:00:04\n",
      "   - -------------------------------------- 1.7/44.8 MB 13.3 MB/s eta 0:00:04\n",
      "   - -------------------------------------- 2.2/44.8 MB 12.9 MB/s eta 0:00:04\n",
      "   -- ------------------------------------- 2.7/44.8 MB 12.2 MB/s eta 0:00:04\n",
      "   -- ------------------------------------- 3.2/44.8 MB 12.1 MB/s eta 0:00:04\n",
      "   --- ------------------------------------ 3.8/44.8 MB 12.1 MB/s eta 0:00:04\n",
      "   --- ------------------------------------ 4.3/44.8 MB 12.1 MB/s eta 0:00:04\n",
      "   ---- ----------------------------------- 4.8/44.8 MB 11.9 MB/s eta 0:00:04\n",
      "   ---- ----------------------------------- 5.4/44.8 MB 12.4 MB/s eta 0:00:04\n",
      "   ----- ---------------------------------- 5.9/44.8 MB 12.2 MB/s eta 0:00:04\n",
      "   ----- ---------------------------------- 6.5/44.8 MB 12.2 MB/s eta 0:00:04\n",
      "   ------ --------------------------------- 7.0/44.8 MB 12.1 MB/s eta 0:00:04\n",
      "   ------ --------------------------------- 7.6/44.8 MB 12.1 MB/s eta 0:00:04\n",
      "   ------- -------------------------------- 8.1/44.8 MB 12.1 MB/s eta 0:00:04\n",
      "   ------- -------------------------------- 8.7/44.8 MB 11.6 MB/s eta 0:00:04\n",
      "   -------- ------------------------------- 9.3/44.8 MB 11.9 MB/s eta 0:00:03\n",
      "   -------- ------------------------------- 9.8/44.8 MB 11.8 MB/s eta 0:00:03\n",
      "   --------- ------------------------------ 10.3/44.8 MB 11.7 MB/s eta 0:00:03\n",
      "   --------- ------------------------------ 10.8/44.8 MB 11.5 MB/s eta 0:00:03\n",
      "   ---------- ----------------------------- 11.4/44.8 MB 11.7 MB/s eta 0:00:03\n",
      "   ---------- ----------------------------- 12.0/44.8 MB 11.7 MB/s eta 0:00:03\n",
      "   ----------- ---------------------------- 12.5/44.8 MB 11.7 MB/s eta 0:00:03\n",
      "   ----------- ---------------------------- 13.1/44.8 MB 11.7 MB/s eta 0:00:03\n",
      "   ------------ --------------------------- 13.6/44.8 MB 11.7 MB/s eta 0:00:03\n",
      "   ------------ --------------------------- 14.1/44.8 MB 11.7 MB/s eta 0:00:03\n",
      "   ------------- -------------------------- 14.7/44.8 MB 11.7 MB/s eta 0:00:03\n",
      "   ------------- -------------------------- 15.2/44.8 MB 11.7 MB/s eta 0:00:03\n",
      "   -------------- ------------------------- 15.8/44.8 MB 11.5 MB/s eta 0:00:03\n",
      "   -------------- ------------------------- 16.3/44.8 MB 11.5 MB/s eta 0:00:03\n",
      "   --------------- ------------------------ 16.9/44.8 MB 11.7 MB/s eta 0:00:03\n",
      "   --------------- ------------------------ 17.4/44.8 MB 11.7 MB/s eta 0:00:03\n",
      "   ---------------- ----------------------- 18.0/44.8 MB 11.7 MB/s eta 0:00:03\n",
      "   ---------------- ----------------------- 18.6/44.8 MB 11.9 MB/s eta 0:00:03\n",
      "   ----------------- ---------------------- 19.1/44.8 MB 11.9 MB/s eta 0:00:03\n",
      "   ----------------- ---------------------- 19.7/44.8 MB 11.7 MB/s eta 0:00:03\n",
      "   ------------------ --------------------- 20.2/44.8 MB 11.7 MB/s eta 0:00:03\n",
      "   ------------------ --------------------- 20.8/44.8 MB 11.9 MB/s eta 0:00:03\n",
      "   ------------------ --------------------- 21.2/44.8 MB 11.7 MB/s eta 0:00:03\n",
      "   ------------------- -------------------- 21.7/44.8 MB 11.7 MB/s eta 0:00:02\n",
      "   ------------------- -------------------- 22.3/44.8 MB 11.7 MB/s eta 0:00:02\n",
      "   -------------------- ------------------- 22.9/44.8 MB 11.7 MB/s eta 0:00:02\n",
      "   -------------------- ------------------- 23.4/44.8 MB 11.7 MB/s eta 0:00:02\n",
      "   --------------------- ------------------ 24.0/44.8 MB 11.7 MB/s eta 0:00:02\n",
      "   --------------------- ------------------ 24.5/44.8 MB 11.7 MB/s eta 0:00:02\n",
      "   ---------------------- ----------------- 25.1/44.8 MB 11.7 MB/s eta 0:00:02\n",
      "   ---------------------- ----------------- 25.6/44.8 MB 11.7 MB/s eta 0:00:02\n",
      "   ----------------------- ---------------- 26.2/44.8 MB 11.7 MB/s eta 0:00:02\n",
      "   ----------------------- ---------------- 26.7/44.8 MB 11.7 MB/s eta 0:00:02\n",
      "   ------------------------ --------------- 27.2/44.8 MB 11.7 MB/s eta 0:00:02\n",
      "   ------------------------ --------------- 27.8/44.8 MB 11.7 MB/s eta 0:00:02\n",
      "   ------------------------- -------------- 28.4/44.8 MB 11.7 MB/s eta 0:00:02\n",
      "   ------------------------- -------------- 28.9/44.8 MB 11.7 MB/s eta 0:00:02\n",
      "   -------------------------- ------------- 29.3/44.8 MB 11.7 MB/s eta 0:00:02\n",
      "   -------------------------- ------------- 29.9/44.8 MB 11.5 MB/s eta 0:00:02\n",
      "   --------------------------- ------------ 30.4/44.8 MB 11.7 MB/s eta 0:00:02\n",
      "   --------------------------- ------------ 30.9/44.8 MB 11.7 MB/s eta 0:00:02\n",
      "   ---------------------------- ----------- 31.4/44.8 MB 11.5 MB/s eta 0:00:02\n",
      "   ---------------------------- ----------- 32.0/44.8 MB 11.7 MB/s eta 0:00:02\n",
      "   ----------------------------- ---------- 32.5/44.8 MB 11.7 MB/s eta 0:00:02\n",
      "   ----------------------------- ---------- 33.0/44.8 MB 11.7 MB/s eta 0:00:02\n",
      "   ----------------------------- ---------- 33.6/44.8 MB 11.5 MB/s eta 0:00:01\n",
      "   ------------------------------ --------- 34.1/44.8 MB 11.7 MB/s eta 0:00:01\n",
      "   ------------------------------ --------- 34.5/44.8 MB 11.5 MB/s eta 0:00:01\n",
      "   ------------------------------- -------- 35.1/44.8 MB 11.9 MB/s eta 0:00:01\n",
      "   ------------------------------- -------- 35.7/44.8 MB 11.9 MB/s eta 0:00:01\n",
      "   -------------------------------- ------- 36.2/44.8 MB 11.9 MB/s eta 0:00:01\n",
      "   -------------------------------- ------- 36.7/44.8 MB 11.7 MB/s eta 0:00:01\n",
      "   --------------------------------- ------ 37.3/44.8 MB 11.9 MB/s eta 0:00:01\n",
      "   --------------------------------- ------ 37.9/44.8 MB 11.9 MB/s eta 0:00:01\n",
      "   ---------------------------------- ----- 38.4/44.8 MB 11.9 MB/s eta 0:00:01\n",
      "   ---------------------------------- ----- 38.9/44.8 MB 11.7 MB/s eta 0:00:01\n",
      "   ----------------------------------- ---- 39.5/44.8 MB 11.7 MB/s eta 0:00:01\n",
      "   ----------------------------------- ---- 39.9/44.8 MB 11.7 MB/s eta 0:00:01\n",
      "   ------------------------------------ --- 40.5/44.8 MB 11.9 MB/s eta 0:00:01\n",
      "   ------------------------------------ --- 41.1/44.8 MB 11.7 MB/s eta 0:00:01\n",
      "   ------------------------------------- -- 41.6/44.8 MB 12.1 MB/s eta 0:00:01\n",
      "   ------------------------------------- -- 42.2/44.8 MB 11.9 MB/s eta 0:00:01\n",
      "   -------------------------------------- - 42.7/44.8 MB 11.7 MB/s eta 0:00:01\n",
      "   -------------------------------------- - 43.2/44.8 MB 12.1 MB/s eta 0:00:01\n",
      "   ---------------------------------------  43.8/44.8 MB 12.1 MB/s eta 0:00:01\n",
      "   ---------------------------------------  44.3/44.8 MB 11.7 MB/s eta 0:00:01\n",
      "   ---------------------------------------  44.8/44.8 MB 11.9 MB/s eta 0:00:01\n",
      "   ---------------------------------------  44.8/44.8 MB 11.9 MB/s eta 0:00:01\n",
      "   ---------------------------------------  44.8/44.8 MB 11.9 MB/s eta 0:00:01\n",
      "   ---------------------------------------  44.8/44.8 MB 11.9 MB/s eta 0:00:01\n",
      "   ---------------------------------------  44.8/44.8 MB 11.9 MB/s eta 0:00:01\n",
      "   ---------------------------------------  44.8/44.8 MB 11.9 MB/s eta 0:00:01\n",
      "   ---------------------------------------  44.8/44.8 MB 11.9 MB/s eta 0:00:01\n",
      "   ---------------------------------------  44.8/44.8 MB 11.9 MB/s eta 0:00:01\n",
      "   ---------------------------------------  44.8/44.8 MB 11.9 MB/s eta 0:00:01\n",
      "   ---------------------------------------  44.8/44.8 MB 11.9 MB/s eta 0:00:01\n",
      "   ---------------------------------------  44.8/44.8 MB 11.9 MB/s eta 0:00:01\n",
      "   ---------------------------------------  44.8/44.8 MB 11.9 MB/s eta 0:00:01\n",
      "   ---------------------------------------  44.8/44.8 MB 11.9 MB/s eta 0:00:01\n",
      "   ---------------------------------------  44.8/44.8 MB 11.9 MB/s eta 0:00:01\n",
      "   ---------------------------------------  44.8/44.8 MB 11.9 MB/s eta 0:00:01\n",
      "   ---------------------------------------- 44.8/44.8 MB 6.7 MB/s eta 0:00:00\n",
      "Downloading threadpoolctl-3.5.0-py3-none-any.whl (18 kB)\n",
      "Installing collected packages: threadpoolctl, scipy, joblib, scikit-learn\n",
      "Successfully installed joblib-1.4.2 scikit-learn-1.5.1 scipy-1.14.0 threadpoolctl-3.5.0\n"
     ]
    },
    {
     "name": "stderr",
     "output_type": "stream",
     "text": [
      "\n",
      "[notice] A new release of pip is available: 24.1.2 -> 24.2\n",
      "[notice] To update, run: python.exe -m pip install --upgrade pip\n"
     ]
    }
   ],
   "source": [
    "!pip install scikit-learn"
   ]
  },
  {
   "cell_type": "code",
   "execution_count": 5,
   "id": "ed90fe37-cda8-4318-8706-bb5c5470378f",
   "metadata": {
    "scrolled": true
   },
   "outputs": [
    {
     "name": "stdout",
     "output_type": "stream",
     "text": [
      "Collecting nltk\n",
      "  Downloading nltk-3.8.1-py3-none-any.whl.metadata (2.8 kB)\n",
      "Collecting click (from nltk)\n",
      "  Downloading click-8.1.7-py3-none-any.whl.metadata (3.0 kB)\n",
      "Requirement already satisfied: joblib in c:\\users\\pc-20\\appdata\\local\\programs\\python\\python310\\lib\\site-packages (from nltk) (1.4.2)\n",
      "Collecting regex>=2021.8.3 (from nltk)\n",
      "  Downloading regex-2024.7.24-cp310-cp310-win_amd64.whl.metadata (41 kB)\n",
      "     ---------------------------------------- 0.0/41.5 kB ? eta -:--:--\n",
      "     ---------------------------------------  41.0/41.5 kB ? eta -:--:--\n",
      "     ---------------------------------------  41.0/41.5 kB ? eta -:--:--\n",
      "     ---------------------------------------  41.0/41.5 kB ? eta -:--:--\n",
      "     -------------------------------------- 41.5/41.5 kB 182.0 kB/s eta 0:00:00\n",
      "Collecting tqdm (from nltk)\n",
      "  Downloading tqdm-4.66.5-py3-none-any.whl.metadata (57 kB)\n",
      "     ---------------------------------------- 0.0/57.6 kB ? eta -:--:--\n",
      "     ----------------------------------- ---- 51.2/57.6 kB ? eta -:--:--\n",
      "     ----------------------------------- ---- 51.2/57.6 kB ? eta -:--:--\n",
      "     -------------------------------------- 57.6/57.6 kB 503.9 kB/s eta 0:00:00\n",
      "Requirement already satisfied: colorama in c:\\users\\pc-20\\appdata\\local\\programs\\python\\python310\\lib\\site-packages (from click->nltk) (0.4.6)\n",
      "Downloading nltk-3.8.1-py3-none-any.whl (1.5 MB)\n",
      "   ---------------------------------------- 0.0/1.5 MB ? eta -:--:--\n",
      "   ------- -------------------------------- 0.3/1.5 MB 5.9 MB/s eta 0:00:01\n",
      "   ---------- ----------------------------- 0.4/1.5 MB 4.1 MB/s eta 0:00:01\n",
      "   ----------------- ---------------------- 0.7/1.5 MB 4.6 MB/s eta 0:00:01\n",
      "   ------------------------ --------------- 0.9/1.5 MB 5.0 MB/s eta 0:00:01\n",
      "   -------------------------------- ------- 1.2/1.5 MB 5.6 MB/s eta 0:00:01\n",
      "   ---------------------------------------  1.5/1.5 MB 6.0 MB/s eta 0:00:01\n",
      "   ---------------------------------------  1.5/1.5 MB 6.0 MB/s eta 0:00:01\n",
      "   ---------------------------------------  1.5/1.5 MB 6.0 MB/s eta 0:00:01\n",
      "   ---------------------------------------- 1.5/1.5 MB 4.2 MB/s eta 0:00:00\n",
      "Downloading regex-2024.7.24-cp310-cp310-win_amd64.whl (269 kB)\n",
      "   ---------------------------------------- 0.0/269.7 kB ? eta -:--:--\n",
      "   ---------------------------------------  266.2/269.7 kB ? eta -:--:--\n",
      "   ---------------------------------------  266.2/269.7 kB ? eta -:--:--\n",
      "   ---------------------------------------- 269.7/269.7 kB 2.4 MB/s eta 0:00:00\n",
      "Downloading click-8.1.7-py3-none-any.whl (97 kB)\n",
      "   ---------------------------------------- 0.0/97.9 kB ? eta -:--:--\n",
      "   ------------------------------------- -- 92.2/97.9 kB ? eta -:--:--\n",
      "   ------------------------------------- -- 92.2/97.9 kB ? eta -:--:--\n",
      "   ---------------------------------------- 97.9/97.9 kB 701.6 kB/s eta 0:00:00\n",
      "Downloading tqdm-4.66.5-py3-none-any.whl (78 kB)\n",
      "   ---------------------------------------- 0.0/78.4 kB ? eta -:--:--\n",
      "   ------------------------------------ --- 71.7/78.4 kB ? eta -:--:--\n",
      "   ------------------------------------ --- 71.7/78.4 kB ? eta -:--:--\n",
      "   ---------------------------------------- 78.4/78.4 kB 544.9 kB/s eta 0:00:00\n",
      "Installing collected packages: tqdm, regex, click, nltk\n",
      "Successfully installed click-8.1.7 nltk-3.8.1 regex-2024.7.24 tqdm-4.66.5\n"
     ]
    },
    {
     "name": "stderr",
     "output_type": "stream",
     "text": [
      "\n",
      "[notice] A new release of pip is available: 24.1.2 -> 24.2\n",
      "[notice] To update, run: python.exe -m pip install --upgrade pip\n"
     ]
    }
   ],
   "source": [
    "!pip install nltk"
   ]
  },
  {
   "cell_type": "code",
   "execution_count": 3,
   "id": "5672a4d3-05c7-4203-87cb-79ee01789b4c",
   "metadata": {},
   "outputs": [],
   "source": [
    "import pandas as pd"
   ]
  },
  {
   "cell_type": "code",
   "execution_count": 4,
   "id": "4b7ec41c-3e0d-408e-a9ac-75efcf6c508d",
   "metadata": {},
   "outputs": [],
   "source": [
    "df=pd.read_csv('movie.csv',encoding='ISO-8859-1') #'ISO-8859-1' encoding covers all western european languages"
   ]
  },
  {
   "cell_type": "code",
   "execution_count": 5,
   "id": "33d84ad3-75ad-451d-aa19-9d679fef1471",
   "metadata": {},
   "outputs": [
    {
     "data": {
      "text/html": [
       "<div>\n",
       "<style scoped>\n",
       "    .dataframe tbody tr th:only-of-type {\n",
       "        vertical-align: middle;\n",
       "    }\n",
       "\n",
       "    .dataframe tbody tr th {\n",
       "        vertical-align: top;\n",
       "    }\n",
       "\n",
       "    .dataframe thead th {\n",
       "        text-align: right;\n",
       "    }\n",
       "</style>\n",
       "<table border=\"1\" class=\"dataframe\">\n",
       "  <thead>\n",
       "    <tr style=\"text-align: right;\">\n",
       "      <th></th>\n",
       "      <th>ÿtext</th>\n",
       "      <th>label</th>\n",
       "    </tr>\n",
       "  </thead>\n",
       "  <tbody>\n",
       "    <tr>\n",
       "      <th>0</th>\n",
       "      <td>I grew up (b. 1965) watching and loving the Th...</td>\n",
       "      <td>0</td>\n",
       "    </tr>\n",
       "    <tr>\n",
       "      <th>1</th>\n",
       "      <td>When I put this movie in my DVD player, and sa...</td>\n",
       "      <td>0</td>\n",
       "    </tr>\n",
       "    <tr>\n",
       "      <th>2</th>\n",
       "      <td>Why do people who do not know what a particula...</td>\n",
       "      <td>0</td>\n",
       "    </tr>\n",
       "    <tr>\n",
       "      <th>3</th>\n",
       "      <td>Even though I have great interest in Biblical ...</td>\n",
       "      <td>0</td>\n",
       "    </tr>\n",
       "    <tr>\n",
       "      <th>4</th>\n",
       "      <td>Im a die hard Dads Army fan and nothing will e...</td>\n",
       "      <td>1</td>\n",
       "    </tr>\n",
       "  </tbody>\n",
       "</table>\n",
       "</div>"
      ],
      "text/plain": [
       "                                               ÿtext  label\n",
       "0  I grew up (b. 1965) watching and loving the Th...      0\n",
       "1  When I put this movie in my DVD player, and sa...      0\n",
       "2  Why do people who do not know what a particula...      0\n",
       "3  Even though I have great interest in Biblical ...      0\n",
       "4  Im a die hard Dads Army fan and nothing will e...      1"
      ]
     },
     "execution_count": 5,
     "metadata": {},
     "output_type": "execute_result"
    }
   ],
   "source": [
    "df.head()"
   ]
  },
  {
   "cell_type": "code",
   "execution_count": 6,
   "id": "fcc8c14c-9e53-4cba-81ce-b42e089333e8",
   "metadata": {},
   "outputs": [],
   "source": [
    "df.columns=['text','label'] #changing the name of the column to 'text'"
   ]
  },
  {
   "cell_type": "code",
   "execution_count": 7,
   "id": "16941c7c-7027-49f1-a986-d48ec86de8df",
   "metadata": {},
   "outputs": [
    {
     "data": {
      "text/html": [
       "<div>\n",
       "<style scoped>\n",
       "    .dataframe tbody tr th:only-of-type {\n",
       "        vertical-align: middle;\n",
       "    }\n",
       "\n",
       "    .dataframe tbody tr th {\n",
       "        vertical-align: top;\n",
       "    }\n",
       "\n",
       "    .dataframe thead th {\n",
       "        text-align: right;\n",
       "    }\n",
       "</style>\n",
       "<table border=\"1\" class=\"dataframe\">\n",
       "  <thead>\n",
       "    <tr style=\"text-align: right;\">\n",
       "      <th></th>\n",
       "      <th>text</th>\n",
       "      <th>label</th>\n",
       "    </tr>\n",
       "  </thead>\n",
       "  <tbody>\n",
       "    <tr>\n",
       "      <th>0</th>\n",
       "      <td>I grew up (b. 1965) watching and loving the Th...</td>\n",
       "      <td>0</td>\n",
       "    </tr>\n",
       "    <tr>\n",
       "      <th>1</th>\n",
       "      <td>When I put this movie in my DVD player, and sa...</td>\n",
       "      <td>0</td>\n",
       "    </tr>\n",
       "    <tr>\n",
       "      <th>2</th>\n",
       "      <td>Why do people who do not know what a particula...</td>\n",
       "      <td>0</td>\n",
       "    </tr>\n",
       "    <tr>\n",
       "      <th>3</th>\n",
       "      <td>Even though I have great interest in Biblical ...</td>\n",
       "      <td>0</td>\n",
       "    </tr>\n",
       "    <tr>\n",
       "      <th>4</th>\n",
       "      <td>Im a die hard Dads Army fan and nothing will e...</td>\n",
       "      <td>1</td>\n",
       "    </tr>\n",
       "  </tbody>\n",
       "</table>\n",
       "</div>"
      ],
      "text/plain": [
       "                                                text  label\n",
       "0  I grew up (b. 1965) watching and loving the Th...      0\n",
       "1  When I put this movie in my DVD player, and sa...      0\n",
       "2  Why do people who do not know what a particula...      0\n",
       "3  Even though I have great interest in Biblical ...      0\n",
       "4  Im a die hard Dads Army fan and nothing will e...      1"
      ]
     },
     "execution_count": 7,
     "metadata": {},
     "output_type": "execute_result"
    }
   ],
   "source": [
    "df.head()"
   ]
  },
  {
   "cell_type": "code",
   "execution_count": 8,
   "id": "d21124f8-97be-42da-ab5b-6f31606b79ba",
   "metadata": {},
   "outputs": [
    {
     "name": "stdout",
     "output_type": "stream",
     "text": [
      "0\n",
      "0\n"
     ]
    }
   ],
   "source": [
    "#checking if columns have NA values\n",
    "print(df['label'].isna().sum())\n",
    "print(df['text'].isna().sum())"
   ]
  },
  {
   "cell_type": "code",
   "execution_count": 9,
   "id": "c122c9d2-554c-4efa-a1e7-4687d2d929fb",
   "metadata": {},
   "outputs": [],
   "source": [
    "#filling NA values with empty string\n",
    "df['label']=df['label'].fillna('')"
   ]
  },
  {
   "cell_type": "code",
   "execution_count": 10,
   "id": "994ffc3a-b7bf-41d5-aa76-0b2756942717",
   "metadata": {},
   "outputs": [
    {
     "data": {
      "text/plain": [
       "0    I grew up (b. 1965) watching and loving the Th...\n",
       "1    When I put this movie in my DVD player, and sa...\n",
       "2    Why do people who do not know what a particula...\n",
       "3    Even though I have great interest in Biblical ...\n",
       "4    Im a die hard Dads Army fan and nothing will e...\n",
       "Name: text, dtype: object"
      ]
     },
     "execution_count": 10,
     "metadata": {},
     "output_type": "execute_result"
    }
   ],
   "source": [
    "#performing Vertical segmentation on data using iloc\n",
    "x=df.iloc[:,0]\n",
    "x.head()"
   ]
  },
  {
   "cell_type": "code",
   "execution_count": 11,
   "id": "dc07a6ea-d977-4873-bf84-e1dc595cd5b7",
   "metadata": {},
   "outputs": [
    {
     "data": {
      "text/plain": [
       "0    0\n",
       "1    0\n",
       "2    0\n",
       "3    0\n",
       "4    1\n",
       "Name: label, dtype: int64"
      ]
     },
     "execution_count": 11,
     "metadata": {},
     "output_type": "execute_result"
    }
   ],
   "source": [
    "y=df.iloc[:,1]\n",
    "y.head()"
   ]
  },
  {
   "cell_type": "code",
   "execution_count": 12,
   "id": "278b68d4-43c1-449d-b82c-fcf98bcef63e",
   "metadata": {},
   "outputs": [],
   "source": [
    "#importing two types of Vectorizers and two types of Naive Bayes Model\n",
    "from sklearn.feature_extraction.text import CountVectorizer\n",
    "from sklearn.feature_extraction.text import TfidfVectorizer\n",
    "from sklearn.naive_bayes import BernoulliNB,MultinomialNB"
   ]
  },
  {
   "cell_type": "code",
   "execution_count": 13,
   "id": "fce7de78-d8a1-42f1-b449-733f53598bd6",
   "metadata": {},
   "outputs": [],
   "source": [
    "vectorizer1=CountVectorizer(binary=True)\n",
    "vectorizer2=CountVectorizer(binary=False)\n",
    "tfidfVect=TfidfVectorizer()"
   ]
  },
  {
   "cell_type": "code",
   "execution_count": 14,
   "id": "dbb87c98-7404-4015-aefd-1eda9ce30b95",
   "metadata": {},
   "outputs": [],
   "source": [
    "x1=vectorizer1.fit_transform(x)\n",
    "x2=vectorizer2.fit_transform(x)\n",
    "x3=tfidfVect.fit_transform(x)"
   ]
  },
  {
   "cell_type": "code",
   "execution_count": 15,
   "id": "8c25295b-db01-4b54-bd92-e58a55379167",
   "metadata": {},
   "outputs": [],
   "source": [
    "from sklearn.model_selection import train_test_split"
   ]
  },
  {
   "cell_type": "code",
   "execution_count": 66,
   "id": "1a6d56af-3914-422b-a893-a43865cc15a7",
   "metadata": {},
   "outputs": [
    {
     "name": "stdout",
     "output_type": "stream",
     "text": [
      "(30000, 159268)\n"
     ]
    }
   ],
   "source": [
    "xtrain1,xtest1,ytrain,ytest=train_test_split(x1,y,test_size=0.25,random_state=1)\n",
    "xtrain2,xtest2,ytrain,ytest=train_test_split(x2,y,test_size=0.25,random_state=1)\n",
    "xtrain3,xtest3,ytrain,ytest=train_test_split(x3,y,test_size=0.25,random_state=1)\n",
    "print(xtrain1.shape)"
   ]
  },
  {
   "cell_type": "code",
   "execution_count": 17,
   "id": "79d21f4e-b734-490e-be62-d8faeeaa98ea",
   "metadata": {},
   "outputs": [],
   "source": [
    "bnb=BernoulliNB()\n",
    "mnb=MultinomialNB()\n",
    "mnb2=MultinomialNB()"
   ]
  },
  {
   "cell_type": "code",
   "execution_count": 65,
   "id": "c4d86cb7-0b61-4cbd-a3d7-48f4be718deb",
   "metadata": {},
   "outputs": [],
   "source": [
    "bnb.fit(xtrain1,ytrain)\n",
    "mnb.fit(xtrain2,ytrain)\n",
    "mnb2.fit(xtrain3,ytrain)\n",
    "pred1=bnb.predict(xtest1)\n",
    "pred2=mnb.predict(xtest2)\n",
    "pred3=mnb2.predict(xtest3)"
   ]
  },
  {
   "cell_type": "code",
   "execution_count": 20,
   "id": "9d67cf12-5abf-432e-97f4-effb1471ab17",
   "metadata": {},
   "outputs": [
    {
     "name": "stdout",
     "output_type": "stream",
     "text": [
      "Accuracy score for BernoulliNB Model using Binary based Vectors is 0.849\n",
      "Accuracy score for MultinomialNB Model using Frequency based vectors is 0.8447\n",
      "Accuracy score for MultinomialNB Model using tfidf score based vectors is 0.8609\n"
     ]
    }
   ],
   "source": [
    "from sklearn.metrics import accuracy_score\n",
    "print('Accuracy score for BernoulliNB Model using Binary based Vectors is',accuracy_score(pred1,ytest))\n",
    "print('Accuracy score for MultinomialNB Model using Frequency based vectors is',accuracy_score(pred2,ytest))\n",
    "print('Accuracy score for MultinomialNB Model using tfidf score based vectors is',accuracy_score(pred3,ytest))"
   ]
  },
  {
   "cell_type": "markdown",
   "id": "6d24c926-273c-41e3-8f0c-4a8cc6fc5f73",
   "metadata": {},
   "source": [
    "<h1><center>Performing Stopword Removal to improve the accuracy</h1>"
   ]
  },
  {
   "cell_type": "code",
   "execution_count": 21,
   "id": "948a7347-5550-460b-a649-eb39b165dcd3",
   "metadata": {},
   "outputs": [
    {
     "name": "stderr",
     "output_type": "stream",
     "text": [
      "[nltk_data] Downloading package stopwords to\n",
      "[nltk_data]     C:\\Users\\zahid\\AppData\\Roaming\\nltk_data...\n",
      "[nltk_data]   Package stopwords is already up-to-date!\n"
     ]
    },
    {
     "data": {
      "text/plain": [
       "True"
      ]
     },
     "execution_count": 21,
     "metadata": {},
     "output_type": "execute_result"
    }
   ],
   "source": [
    "import nltk\n",
    "from nltk.corpus import stopwords\n",
    "nltk.download('stopwords')"
   ]
  },
  {
   "cell_type": "code",
   "execution_count": 22,
   "id": "dd559a8b-8be0-4d4c-8237-ce45d4a3d0f5",
   "metadata": {},
   "outputs": [],
   "source": [
    "#Creating a function that removes stopwords from data\n",
    "def remove_stopwords(text):\n",
    "    stop_words = set(stopwords.words('english'))\n",
    "    words = text.split()\n",
    "    filtered_words = [word for word in words if word.lower() not in stop_words]\n",
    "    return ' '.join(filtered_words)"
   ]
  },
  {
   "cell_type": "code",
   "execution_count": 23,
   "id": "7ab906ec-b9d7-4f76-867f-793f4c612673",
   "metadata": {},
   "outputs": [],
   "source": [
    "#applying the above function on each row of the column 'text'\n",
    "df['text'] = df['text'].apply(remove_stopwords)"
   ]
  },
  {
   "cell_type": "code",
   "execution_count": 24,
   "id": "4d190e9a-69d6-4ec4-9190-a218f721804f",
   "metadata": {},
   "outputs": [
    {
     "data": {
      "text/html": [
       "<div>\n",
       "<style scoped>\n",
       "    .dataframe tbody tr th:only-of-type {\n",
       "        vertical-align: middle;\n",
       "    }\n",
       "\n",
       "    .dataframe tbody tr th {\n",
       "        vertical-align: top;\n",
       "    }\n",
       "\n",
       "    .dataframe thead th {\n",
       "        text-align: right;\n",
       "    }\n",
       "</style>\n",
       "<table border=\"1\" class=\"dataframe\">\n",
       "  <thead>\n",
       "    <tr style=\"text-align: right;\">\n",
       "      <th></th>\n",
       "      <th>text</th>\n",
       "      <th>label</th>\n",
       "    </tr>\n",
       "  </thead>\n",
       "  <tbody>\n",
       "    <tr>\n",
       "      <th>0</th>\n",
       "      <td>grew (b. 1965) watching loving Thunderbirds. m...</td>\n",
       "      <td>0</td>\n",
       "    </tr>\n",
       "    <tr>\n",
       "      <th>1</th>\n",
       "      <td>put movie DVD player, sat coke chips, expectat...</td>\n",
       "      <td>0</td>\n",
       "    </tr>\n",
       "    <tr>\n",
       "      <th>2</th>\n",
       "      <td>people know particular time past like feel nee...</td>\n",
       "      <td>0</td>\n",
       "    </tr>\n",
       "    <tr>\n",
       "      <th>3</th>\n",
       "      <td>Even though great interest Biblical movies, bo...</td>\n",
       "      <td>0</td>\n",
       "    </tr>\n",
       "    <tr>\n",
       "      <th>4</th>\n",
       "      <td>Im die hard Dads Army fan nothing ever change ...</td>\n",
       "      <td>1</td>\n",
       "    </tr>\n",
       "  </tbody>\n",
       "</table>\n",
       "</div>"
      ],
      "text/plain": [
       "                                                text  label\n",
       "0  grew (b. 1965) watching loving Thunderbirds. m...      0\n",
       "1  put movie DVD player, sat coke chips, expectat...      0\n",
       "2  people know particular time past like feel nee...      0\n",
       "3  Even though great interest Biblical movies, bo...      0\n",
       "4  Im die hard Dads Army fan nothing ever change ...      1"
      ]
     },
     "execution_count": 24,
     "metadata": {},
     "output_type": "execute_result"
    }
   ],
   "source": [
    "df.head()"
   ]
  },
  {
   "cell_type": "code",
   "execution_count": 25,
   "id": "c807dec5-15ce-4fd2-b113-dc71b64812c6",
   "metadata": {},
   "outputs": [
    {
     "data": {
      "text/plain": [
       "0    grew (b. 1965) watching loving Thunderbirds. m...\n",
       "1    put movie DVD player, sat coke chips, expectat...\n",
       "2    people know particular time past like feel nee...\n",
       "3    Even though great interest Biblical movies, bo...\n",
       "4    Im die hard Dads Army fan nothing ever change ...\n",
       "Name: text, dtype: object"
      ]
     },
     "execution_count": 25,
     "metadata": {},
     "output_type": "execute_result"
    }
   ],
   "source": [
    "x=df.iloc[:,0]\n",
    "x.head()"
   ]
  },
  {
   "cell_type": "code",
   "execution_count": 26,
   "id": "15f4b89d-8061-4b53-85c7-e63e08cb83a0",
   "metadata": {},
   "outputs": [
    {
     "data": {
      "text/plain": [
       "0    0\n",
       "1    0\n",
       "2    0\n",
       "3    0\n",
       "4    1\n",
       "Name: label, dtype: int64"
      ]
     },
     "execution_count": 26,
     "metadata": {},
     "output_type": "execute_result"
    }
   ],
   "source": [
    "y=df.iloc[:,1]\n",
    "y.head()"
   ]
  },
  {
   "cell_type": "code",
   "execution_count": 27,
   "id": "2f3fb1a1-7ffe-4598-a54b-0233972f6ffe",
   "metadata": {},
   "outputs": [],
   "source": [
    "x1=vectorizer1.fit_transform(x)\n",
    "x2=vectorizer2.fit_transform(x)\n",
    "x3=tfidfVect.fit_transform(x)"
   ]
  },
  {
   "cell_type": "code",
   "execution_count": 28,
   "id": "2840f751-4c13-4004-b82d-59f9ac48e62c",
   "metadata": {},
   "outputs": [],
   "source": [
    "xtrain1,xtest1,ytrain,ytest=train_test_split(x1,y,test_size=0.25,random_state=1)\n",
    "xtrain2,xtest2,ytrain,ytest=train_test_split(x2,y,test_size=0.25,random_state=1)\n",
    "xtrain3,xtest3,ytrain,ytest=train_test_split(x3,y,test_size=0.25,random_state=1)"
   ]
  },
  {
   "cell_type": "code",
   "execution_count": 59,
   "id": "fa75e994-a9da-4ae7-92e3-84a900a66204",
   "metadata": {},
   "outputs": [],
   "source": [
    "bnb.fit(xtrain1,ytrain)\n",
    "mnb.fit(xtrain2,ytrain)\n",
    "mnb2.fit(xtrain3,ytrain)\n",
    "pred1=bnb.predict(xtest1)\n",
    "pred2=mnb.predict(xtest2)\n",
    "pred3=mnb2.predict(xtest3)"
   ]
  },
  {
   "cell_type": "code",
   "execution_count": 31,
   "id": "42b9b76e-6dbe-4066-9938-afd3f8f65dfc",
   "metadata": {},
   "outputs": [
    {
     "name": "stdout",
     "output_type": "stream",
     "text": [
      "Accuracy score for BernoulliNB model using Binary based Vectors is 0.8484\n",
      "Accuracy score for MultinomialNB model using Frequency based vectors is 0.8559\n",
      "Accuracy score for MultinomialNB model using tfidf score based vectors is 0.8648\n"
     ]
    }
   ],
   "source": [
    "from sklearn.metrics import accuracy_score\n",
    "print('Accuracy score for BernoulliNB model using Binary based Vectors is',accuracy_score(pred1,ytest))\n",
    "print('Accuracy score for MultinomialNB model using Frequency based vectors is',accuracy_score(pred2,ytest))\n",
    "print('Accuracy score for MultinomialNB model using tfidf score based vectors is',accuracy_score(pred3,ytest))"
   ]
  },
  {
   "cell_type": "markdown",
   "id": "8d191af1-8f05-4f4e-88ae-36954e66cbc0",
   "metadata": {},
   "source": [
    "<h1>Removing Punctuation from the dataset to further improve the accuracy</h1>"
   ]
  },
  {
   "cell_type": "code",
   "execution_count": 32,
   "id": "aebec25a-b145-4c0b-b393-7f74014937d5",
   "metadata": {},
   "outputs": [],
   "source": [
    "import string\n",
    "#creating a function to remove the punctuation from data\n",
    "def remove_punctuation(text):\n",
    "    return text.translate(str.maketrans('', '', string.punctuation))"
   ]
  },
  {
   "cell_type": "code",
   "execution_count": 33,
   "id": "66fc0932-df77-494b-8914-d96ffa166ded",
   "metadata": {},
   "outputs": [],
   "source": [
    "#applying the above function on each row of the column 'text'\n",
    "df['text'] = df['text'].apply(remove_punctuation)"
   ]
  },
  {
   "cell_type": "code",
   "execution_count": 34,
   "id": "ef388f78-52ff-43d1-b901-63fef6a61f98",
   "metadata": {},
   "outputs": [
    {
     "data": {
      "text/html": [
       "<div>\n",
       "<style scoped>\n",
       "    .dataframe tbody tr th:only-of-type {\n",
       "        vertical-align: middle;\n",
       "    }\n",
       "\n",
       "    .dataframe tbody tr th {\n",
       "        vertical-align: top;\n",
       "    }\n",
       "\n",
       "    .dataframe thead th {\n",
       "        text-align: right;\n",
       "    }\n",
       "</style>\n",
       "<table border=\"1\" class=\"dataframe\">\n",
       "  <thead>\n",
       "    <tr style=\"text-align: right;\">\n",
       "      <th></th>\n",
       "      <th>text</th>\n",
       "      <th>label</th>\n",
       "    </tr>\n",
       "  </thead>\n",
       "  <tbody>\n",
       "    <tr>\n",
       "      <th>0</th>\n",
       "      <td>grew b 1965 watching loving Thunderbirds mates...</td>\n",
       "      <td>0</td>\n",
       "    </tr>\n",
       "    <tr>\n",
       "      <th>1</th>\n",
       "      <td>put movie DVD player sat coke chips expectatio...</td>\n",
       "      <td>0</td>\n",
       "    </tr>\n",
       "    <tr>\n",
       "      <th>2</th>\n",
       "      <td>people know particular time past like feel nee...</td>\n",
       "      <td>0</td>\n",
       "    </tr>\n",
       "    <tr>\n",
       "      <th>3</th>\n",
       "      <td>Even though great interest Biblical movies bor...</td>\n",
       "      <td>0</td>\n",
       "    </tr>\n",
       "    <tr>\n",
       "      <th>4</th>\n",
       "      <td>Im die hard Dads Army fan nothing ever change ...</td>\n",
       "      <td>1</td>\n",
       "    </tr>\n",
       "  </tbody>\n",
       "</table>\n",
       "</div>"
      ],
      "text/plain": [
       "                                                text  label\n",
       "0  grew b 1965 watching loving Thunderbirds mates...      0\n",
       "1  put movie DVD player sat coke chips expectatio...      0\n",
       "2  people know particular time past like feel nee...      0\n",
       "3  Even though great interest Biblical movies bor...      0\n",
       "4  Im die hard Dads Army fan nothing ever change ...      1"
      ]
     },
     "execution_count": 34,
     "metadata": {},
     "output_type": "execute_result"
    }
   ],
   "source": [
    "df.head()"
   ]
  },
  {
   "cell_type": "code",
   "execution_count": 35,
   "id": "01e2043e-c00b-4f70-abd7-a4c0f39489d7",
   "metadata": {},
   "outputs": [
    {
     "data": {
      "text/plain": [
       "0    grew b 1965 watching loving Thunderbirds mates...\n",
       "1    put movie DVD player sat coke chips expectatio...\n",
       "2    people know particular time past like feel nee...\n",
       "3    Even though great interest Biblical movies bor...\n",
       "4    Im die hard Dads Army fan nothing ever change ...\n",
       "Name: text, dtype: object"
      ]
     },
     "execution_count": 35,
     "metadata": {},
     "output_type": "execute_result"
    }
   ],
   "source": [
    "x=df.iloc[:,0]\n",
    "x.head()"
   ]
  },
  {
   "cell_type": "code",
   "execution_count": 36,
   "id": "370ef4d0-4a3d-44c9-a686-1a3b89e6e5f3",
   "metadata": {},
   "outputs": [
    {
     "data": {
      "text/plain": [
       "0    0\n",
       "1    0\n",
       "2    0\n",
       "3    0\n",
       "4    1\n",
       "Name: label, dtype: int64"
      ]
     },
     "execution_count": 36,
     "metadata": {},
     "output_type": "execute_result"
    }
   ],
   "source": [
    "y=df.iloc[:,1]\n",
    "y.head()"
   ]
  },
  {
   "cell_type": "code",
   "execution_count": 37,
   "id": "5909f2aa-b835-497f-8898-010befbde5e2",
   "metadata": {},
   "outputs": [],
   "source": [
    "x1=vectorizer1.fit_transform(x)\n",
    "x2=vectorizer2.fit_transform(x)\n",
    "x3=tfidfVect.fit_transform(x)"
   ]
  },
  {
   "cell_type": "code",
   "execution_count": 38,
   "id": "7843a52a-17ac-4bbc-afc0-2c2a12445f64",
   "metadata": {},
   "outputs": [],
   "source": [
    "xtrain1,xtest1,ytrain,ytest=train_test_split(x1,y,test_size=0.25,random_state=1)\n",
    "xtrain2,xtest2,ytrain,ytest=train_test_split(x2,y,test_size=0.25,random_state=1)\n",
    "xtrain3,xtest3,ytrain,ytest=train_test_split(x3,y,test_size=0.25,random_state=1)"
   ]
  },
  {
   "cell_type": "code",
   "execution_count": 57,
   "id": "13279e83-13c5-49fb-acdc-73936e53daf6",
   "metadata": {},
   "outputs": [],
   "source": [
    "bnb.fit(xtrain1,ytrain)\n",
    "mnb.fit(xtrain2,ytrain)\n",
    "mnb2.fit(xtrain3,ytrain)\n",
    "pred1=bnb.predict(xtest1)\n",
    "pred2=mnb.predict(xtest2)\n",
    "pred3=mnb2.predict(xtest3)"
   ]
  },
  {
   "cell_type": "code",
   "execution_count": 40,
   "id": "d2334fb1-0158-458d-a391-997a86229e1a",
   "metadata": {},
   "outputs": [
    {
     "name": "stdout",
     "output_type": "stream",
     "text": [
      "Accuracy score for BernoulliNB model using Binary based Vectors is 0.8506\n",
      "Accuracy score for MultinomialNB model using Frequency based vectors is 0.858\n",
      "Accuracy score for MultinomialNB model using tfidf score based vectors is 0.8659\n"
     ]
    }
   ],
   "source": [
    "from sklearn.metrics import accuracy_score\n",
    "print('Accuracy score for BernoulliNB model using Binary based Vectors is',accuracy_score(pred1,ytest))\n",
    "print('Accuracy score for MultinomialNB model using Frequency based vectors is',accuracy_score(pred2,ytest))\n",
    "print('Accuracy score for MultinomialNB model using tfidf score based vectors is',accuracy_score(pred3,ytest))"
   ]
  },
  {
   "cell_type": "markdown",
   "id": "db26f3ee-8a19-41b7-96f1-d4559e8530e9",
   "metadata": {},
   "source": [
    "<h2>As we can see the accuracy score is best for MulitnomialNB model using Tfidf score based vectors.</h2>"
   ]
  },
  {
   "cell_type": "code",
   "execution_count": 67,
   "id": "e6b2d736-0f62-4e09-95bb-a48933957b77",
   "metadata": {},
   "outputs": [],
   "source": [
    "import joblib\n",
    "#Joblib is a Python library used for serializing and deserializing Python objects.\n",
    "joblib.dump(mnb2,'IMDB_SentimentAnalysis.pk1')\n",
    "model=joblib.load('IMDB_SentimentAnalysis.pk1')"
   ]
  }
 ],
 "metadata": {
  "kernelspec": {
   "display_name": "Python 3 (ipykernel)",
   "language": "python",
   "name": "python3"
  },
  "language_info": {
   "codemirror_mode": {
    "name": "ipython",
    "version": 3
   },
   "file_extension": ".py",
   "mimetype": "text/x-python",
   "name": "python",
   "nbconvert_exporter": "python",
   "pygments_lexer": "ipython3",
   "version": "3.12.0"
  }
 },
 "nbformat": 4,
 "nbformat_minor": 5
}
